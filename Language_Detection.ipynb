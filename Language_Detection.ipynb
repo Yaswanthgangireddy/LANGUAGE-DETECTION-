{
  "nbformat": 4,
  "nbformat_minor": 0,
  "metadata": {
    "colab": {
      "provenance": [],
      "authorship_tag": "ABX9TyNuHV+29rCq16oeWtSb6vIt",
      "include_colab_link": true
    },
    "kernelspec": {
      "name": "python3",
      "display_name": "Python 3"
    },
    "language_info": {
      "name": "python"
    }
  },
  "cells": [
    {
      "cell_type": "markdown",
      "metadata": {
        "id": "view-in-github",
        "colab_type": "text"
      },
      "source": [
        "<a href=\"https://colab.research.google.com/github/Yaswanthgangireddy/LANGUAGE-DETECTION-/blob/main/Language_Detection.ipynb\" target=\"_parent\"><img src=\"https://colab.research.google.com/assets/colab-badge.svg\" alt=\"Open In Colab\"/></a>"
      ]
    },
    {
      "cell_type": "code",
      "source": [
        "import requests\n",
        "\n",
        "# 1️⃣ Replace this with your actual Groq API key\n",
        "GROQ_API_KEY = \"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\"\n",
        "\n",
        "# 2️⃣ Get user input\n",
        "user_text = input(\"🔤 Enter a sentence: \")\n",
        "\n",
        "# 3️⃣ Send request to Groq API\n",
        "url = \"https://api.groq.com/openai/v1/chat/completions\"\n",
        "headers = {\n",
        "    \"Authorization\": f\"Bearer {GROQ_API_KEY}\",\n",
        "    \"Content-Type\": \"application/json\"\n",
        "}\n",
        "payload = {\n",
        "    \"model\": \"llama3-8b-8192\",  # You can also use mixtral-8x7b\n",
        "    \"messages\": [\n",
        "        {\n",
        "            \"role\": \"system\",\n",
        "            \"content\": \"You are a language detection assistant. Given any text, respond only with the language name of the input.\"\n",
        "        },\n",
        "        {\n",
        "            \"role\": \"user\",\n",
        "            \"content\": user_text\n",
        "        }\n",
        "    ],\n",
        "    \"temperature\": 0.2\n",
        "}\n",
        "\n",
        "response = requests.post(url, headers=headers, json=payload)\n",
        "\n",
        "# 4️⃣ Parse and show result\n",
        "if response.status_code == 200:\n",
        "    result = response.json()\n",
        "    detected_language = result['choices'][0]['message']['content'].strip()\n",
        "    print(f\"\\n🌍 Detected Language: {detected_language}\")\n",
        "else:\n",
        "    print(\"❌ Error:\", response.text)\n"
      ],
      "metadata": {
        "colab": {
          "base_uri": "https://localhost:8080/"
        },
        "id": "z_J1eWzqLOLr",
        "outputId": "cd74944a-cbde-46be-97c9-bed07cd1a475"
      },
      "execution_count": 12,
      "outputs": [
        {
          "output_type": "stream",
          "name": "stdout",
          "text": [
            "🔤 Enter a sentence: தமிழ்\n",
            "\n",
            "🌍 Detected Language: Tamil\n"
          ]
        }
      ]
    }
  ]
}