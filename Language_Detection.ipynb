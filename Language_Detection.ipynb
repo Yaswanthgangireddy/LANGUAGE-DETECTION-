{
  "nbformat": 4,
  "nbformat_minor": 0,
  "metadata": {
    "colab": {
      "provenance": [],
      "authorship_tag": "ABX9TyOnZIxGGW9L96cT3gBZ6lx4",
      "include_colab_link": true
    },
    "kernelspec": {
      "name": "python3",
      "display_name": "Python 3"
    },
    "language_info": {
      "name": "python"
    }
  },
  "cells": [
    {
      "cell_type": "markdown",
      "metadata": {
        "id": "view-in-github",
        "colab_type": "text"
      },
      "source": [
        "<a href=\"https://colab.research.google.com/github/Yaswanthgangireddy/LANGUAGE-DETECTION-/blob/main/Language_Detection.ipynb\" target=\"_parent\"><img src=\"https://colab.research.google.com/assets/colab-badge.svg\" alt=\"Open In Colab\"/></a>"
      ]
    },
    {
      "cell_type": "code",
      "source": [
        "!pip uninstall fasttext\n",
        "!pip install fasttext-wheel"
      ],
      "metadata": {
        "colab": {
          "base_uri": "https://localhost:8080/"
        },
        "id": "-6Opj2zZ80iP",
        "outputId": "3688024b-a21b-4280-e927-a7997792f3ac"
      },
      "execution_count": 2,
      "outputs": [
        {
          "output_type": "stream",
          "name": "stdout",
          "text": [
            "\u001b[33mWARNING: Skipping fasttext as it is not installed.\u001b[0m\u001b[33m\n",
            "\u001b[0mCollecting fasttext-wheel\n",
            "  Downloading fasttext_wheel-0.9.2-cp311-cp311-manylinux_2_17_x86_64.manylinux2014_x86_64.whl.metadata (16 kB)\n",
            "Collecting pybind11>=2.2 (from fasttext-wheel)\n",
            "  Downloading pybind11-2.13.6-py3-none-any.whl.metadata (9.5 kB)\n",
            "Requirement already satisfied: setuptools>=0.7.0 in /usr/local/lib/python3.11/dist-packages (from fasttext-wheel) (75.2.0)\n",
            "Requirement already satisfied: numpy in /usr/local/lib/python3.11/dist-packages (from fasttext-wheel) (1.24.4)\n",
            "Downloading fasttext_wheel-0.9.2-cp311-cp311-manylinux_2_17_x86_64.manylinux2014_x86_64.whl (4.4 MB)\n",
            "\u001b[2K   \u001b[90m━━━━━━━━━━━━━━━━━━━━━━━━━━━━━━━━━━━━━━━━\u001b[0m \u001b[32m4.4/4.4 MB\u001b[0m \u001b[31m56.5 MB/s\u001b[0m eta \u001b[36m0:00:00\u001b[0m\n",
            "\u001b[?25hDownloading pybind11-2.13.6-py3-none-any.whl (243 kB)\n",
            "\u001b[2K   \u001b[90m━━━━━━━━━━━━━━━━━━━━━━━━━━━━━━━━━━━━━━━━\u001b[0m \u001b[32m243.3/243.3 kB\u001b[0m \u001b[31m22.8 MB/s\u001b[0m eta \u001b[36m0:00:00\u001b[0m\n",
            "\u001b[?25hInstalling collected packages: pybind11, fasttext-wheel\n",
            "Successfully installed fasttext-wheel-0.9.2 pybind11-2.13.6\n"
          ]
        }
      ]
    },
    {
      "cell_type": "code",
      "source": [
        "import re\n",
        "\n",
        "def clean_text(text):\n",
        "    text = re.sub(r'[^\\w\\s\\u0C00-\\u0C7F]', '', text)  # for Telugu + whitespace\n",
        "    return text.strip()\n"
      ],
      "metadata": {
        "id": "yQwBXX7b9eZA"
      },
      "execution_count": 8,
      "outputs": []
    },
    {
      "cell_type": "code",
      "source": [
        "lang_map = {\n",
        "    'en': 'English',\n",
        "    'te': 'Telugu',\n",
        "    'hi': 'Hindi',\n",
        "    'ta': 'Tamil',\n",
        "    'kn': 'Kannada',\n",
        "    'ml': 'Malayalam',\n",
        "    'gu': 'Gujarati',\n",
        "    'bn': 'Bengali',\n",
        "    'mr': 'Marathi',\n",
        "    'ur': 'Urdu',\n",
        "    'pa': 'Punjabi',\n",
        "    'or': 'Odia',\n",
        "    'as': 'Assamese'\n",
        "    # add more as needed\n",
        "}\n",
        "\n",
        "full_lang = lang_map.get(language_code, \"Unknown Language\")\n",
        "print(f\"🌍 Detected Language: {full_lang}\")\n"
      ],
      "metadata": {
        "colab": {
          "base_uri": "https://localhost:8080/"
        },
        "id": "RynYDwiA9g9d",
        "outputId": "abedfcea-d307-4152-ffe6-ddf208f3197b"
      },
      "execution_count": 9,
      "outputs": [
        {
          "output_type": "stream",
          "name": "stdout",
          "text": [
            "🌍 Detected Language: English\n"
          ]
        }
      ]
    },
    {
      "cell_type": "code",
      "source": [
        "import fasttext\n",
        "\n",
        "# Load the pre-trained model\n",
        "model = fasttext.load_model(\"lid.176.bin\")\n",
        "\n",
        "# Take input from user\n",
        "print(\"🔤 Multilingual Language Detection System\")\n",
        "user_input = input(\"Enter a sentence: \")\n",
        "\n",
        "# Predict language\n",
        "labels, probabilities = model.predict(user_input)\n",
        "\n",
        "# Process and display result\n",
        "language_code = labels[0].replace('__label__', '')\n",
        "confidence = probabilities[0]\n",
        "\n",
        "print(f\"\\n🌍 Detected Language Code: {language_code}\")\n",
        "print(f\"✅ Confidence: {confidence:.2f}\")\n"
      ],
      "metadata": {
        "colab": {
          "base_uri": "https://localhost:8080/"
        },
        "id": "ukbZ17XG8-78",
        "outputId": "5673015f-6872-4588-afde-719edab3d170"
      },
      "execution_count": 12,
      "outputs": [
        {
          "output_type": "stream",
          "name": "stderr",
          "text": [
            "Warning : `load_model` does not return WordVectorModel or SupervisedModel any more, but a `FastText` object which is very similar.\n"
          ]
        },
        {
          "output_type": "stream",
          "name": "stdout",
          "text": [
            "🔤 Multilingual Language Detection System\n",
            "Enter a sentence: français\n",
            "\n",
            "🌍 Detected Language Code: fr\n",
            "✅ Confidence: 1.00\n"
          ]
        }
      ]
    }
  ]
}